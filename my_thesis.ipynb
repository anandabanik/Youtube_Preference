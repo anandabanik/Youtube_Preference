{
  "nbformat": 4,
  "nbformat_minor": 0,
  "metadata": {
    "colab": {
      "name": "Untitled9.ipynb",
      "provenance": [],
      "authorship_tag": "ABX9TyMwQMqMtbncH8PSa15FH8tC"
    },
    "kernelspec": {
      "name": "python3",
      "display_name": "Python 3"
    }
  },
  "cells": [
    {
      "cell_type": "code",
      "metadata": {
        "id": "Ad3oM7yBTYv8",
        "colab_type": "code",
        "colab": {
          "base_uri": "https://localhost:8080/",
          "height": 34
        },
        "outputId": "8f42ce3c-601d-4a60-dfa0-9b43366cf9da"
      },
      "source": [
        "#Basic\n",
        "import numpy as np\n",
        "import pandas as pd\n",
        "import seaborn as sns\n",
        "import matplotlib.pyplot as plt\n",
        "from matplotlib import rcParams\n",
        "from matplotlib.cm import rainbow\n",
        "import warnings\n",
        "import os\n",
        "print(os.listdir())\n",
        "warnings.filterwarnings('ignore')\n",
        "%matplotlib inline\n",
        "\n",
        "# Other libraries\n",
        "from sklearn.model_selection import train_test_split\n",
        "from sklearn.model_selection import KFold\n",
        "from sklearn.model_selection import cross_val_score\n",
        "from sklearn.preprocessing import StandardScaler\n",
        "from sklearn.preprocessing import MinMaxScaler\n",
        "from sklearn.metrics import confusion_matrix\n",
        "from sklearn.metrics import accuracy_score\n",
        "from sklearn.metrics import precision_score\n",
        "from sklearn.metrics import recall_score\n",
        "from sklearn.metrics import f1_score\n",
        "from sklearn.metrics import roc_auc_score\n",
        "from sklearn.metrics import classification_report\n",
        "\n",
        "# Machine Learning\n",
        "from sklearn.linear_model import LogisticRegression\n",
        "from sklearn.naive_bayes import GaussianNB\n",
        "from sklearn.neighbors import KNeighborsClassifier\n",
        "from sklearn.svm import SVC\n",
        "from sklearn.tree import DecisionTreeClassifier\n",
        "from sklearn.ensemble import RandomForestClassifier\n",
        "from sklearn.linear_model import LinearRegression\n",
        "from sklearn.neural_network import MLPClassifier"
      ],
      "execution_count": 102,
      "outputs": [
        {
          "output_type": "stream",
          "text": [
            "['.config', 'ananda.csv', '.ipynb_checkpoints', 'sample_data']\n"
          ],
          "name": "stdout"
        }
      ]
    },
    {
      "cell_type": "code",
      "metadata": {
        "id": "URBTWYK09TQ2",
        "colab_type": "code",
        "colab": {}
      },
      "source": [
        ""
      ],
      "execution_count": 0,
      "outputs": []
    },
    {
      "cell_type": "code",
      "metadata": {
        "id": "1PdWQk5aTupp",
        "colab_type": "code",
        "colab": {}
      },
      "source": [
        "dataset = pd.read_csv(\"/content/ananda.csv\")"
      ],
      "execution_count": 0,
      "outputs": []
    },
    {
      "cell_type": "code",
      "metadata": {
        "id": "bNylg7ScVdr1",
        "colab_type": "code",
        "colab": {
          "base_uri": "https://localhost:8080/",
          "height": 34
        },
        "outputId": "06515100-b551-4fa8-cf9f-dba18cdecc54"
      },
      "source": [
        "dataset.shape"
      ],
      "execution_count": 104,
      "outputs": [
        {
          "output_type": "execute_result",
          "data": {
            "text/plain": [
              "(401, 9)"
            ]
          },
          "metadata": {
            "tags": []
          },
          "execution_count": 104
        }
      ]
    },
    {
      "cell_type": "code",
      "metadata": {
        "id": "vVjJyc30VxkN",
        "colab_type": "code",
        "colab": {
          "base_uri": "https://localhost:8080/",
          "height": 204
        },
        "outputId": "ae929bbd-c834-4166-e94c-eda82a858f3b"
      },
      "source": [
        "dataset.head()"
      ],
      "execution_count": 105,
      "outputs": [
        {
          "output_type": "execute_result",
          "data": {
            "text/html": [
              "<div>\n",
              "<style scoped>\n",
              "    .dataframe tbody tr th:only-of-type {\n",
              "        vertical-align: middle;\n",
              "    }\n",
              "\n",
              "    .dataframe tbody tr th {\n",
              "        vertical-align: top;\n",
              "    }\n",
              "\n",
              "    .dataframe thead th {\n",
              "        text-align: right;\n",
              "    }\n",
              "</style>\n",
              "<table border=\"1\" class=\"dataframe\">\n",
              "  <thead>\n",
              "    <tr style=\"text-align: right;\">\n",
              "      <th></th>\n",
              "      <th>Age</th>\n",
              "      <th>Gender</th>\n",
              "      <th>Time_frame</th>\n",
              "      <th>Platform</th>\n",
              "      <th>Likes</th>\n",
              "      <th>help</th>\n",
              "      <th>comments</th>\n",
              "      <th>likead</th>\n",
              "      <th>target</th>\n",
              "    </tr>\n",
              "  </thead>\n",
              "  <tbody>\n",
              "    <tr>\n",
              "      <th>0</th>\n",
              "      <td>21</td>\n",
              "      <td>Male</td>\n",
              "      <td>Short</td>\n",
              "      <td>Mobile_Phone</td>\n",
              "      <td>Maybe</td>\n",
              "      <td>Sometimes</td>\n",
              "      <td>Maybe</td>\n",
              "      <td>No</td>\n",
              "      <td>1</td>\n",
              "    </tr>\n",
              "    <tr>\n",
              "      <th>1</th>\n",
              "      <td>22</td>\n",
              "      <td>Female</td>\n",
              "      <td>Long</td>\n",
              "      <td>Mobile_Phone</td>\n",
              "      <td>Maybe</td>\n",
              "      <td>Sometimes</td>\n",
              "      <td>Maybe</td>\n",
              "      <td>No</td>\n",
              "      <td>1</td>\n",
              "    </tr>\n",
              "    <tr>\n",
              "      <th>2</th>\n",
              "      <td>22</td>\n",
              "      <td>Male</td>\n",
              "      <td>Short</td>\n",
              "      <td>Mobile_Phone</td>\n",
              "      <td>No</td>\n",
              "      <td>Yes</td>\n",
              "      <td>Yes</td>\n",
              "      <td>No</td>\n",
              "      <td>1</td>\n",
              "    </tr>\n",
              "    <tr>\n",
              "      <th>3</th>\n",
              "      <td>22</td>\n",
              "      <td>Male</td>\n",
              "      <td>Long</td>\n",
              "      <td>Mobile_Phone</td>\n",
              "      <td>No</td>\n",
              "      <td>Sometimes</td>\n",
              "      <td>Yes</td>\n",
              "      <td>No</td>\n",
              "      <td>0</td>\n",
              "    </tr>\n",
              "    <tr>\n",
              "      <th>4</th>\n",
              "      <td>22</td>\n",
              "      <td>Male</td>\n",
              "      <td>Short</td>\n",
              "      <td>Computer</td>\n",
              "      <td>Yes</td>\n",
              "      <td>Sometimes</td>\n",
              "      <td>Maybe</td>\n",
              "      <td>No</td>\n",
              "      <td>0</td>\n",
              "    </tr>\n",
              "  </tbody>\n",
              "</table>\n",
              "</div>"
            ],
            "text/plain": [
              "   Age  Gender Time_frame      Platform  ...       help comments likead target\n",
              "0   21    Male      Short  Mobile_Phone  ...  Sometimes    Maybe     No      1\n",
              "1   22  Female       Long  Mobile_Phone  ...  Sometimes    Maybe     No      1\n",
              "2   22    Male      Short  Mobile_Phone  ...        Yes      Yes     No      1\n",
              "3   22    Male       Long  Mobile_Phone  ...  Sometimes      Yes     No      0\n",
              "4   22    Male      Short      Computer  ...  Sometimes    Maybe     No      0\n",
              "\n",
              "[5 rows x 9 columns]"
            ]
          },
          "metadata": {
            "tags": []
          },
          "execution_count": 105
        }
      ]
    },
    {
      "cell_type": "code",
      "metadata": {
        "id": "e4PxAZfyWJs0",
        "colab_type": "code",
        "colab": {
          "base_uri": "https://localhost:8080/",
          "height": 297
        },
        "outputId": "684022b6-b69c-4b41-90cc-eb2275f8698e"
      },
      "source": [
        "dataset.describe()"
      ],
      "execution_count": 106,
      "outputs": [
        {
          "output_type": "execute_result",
          "data": {
            "text/html": [
              "<div>\n",
              "<style scoped>\n",
              "    .dataframe tbody tr th:only-of-type {\n",
              "        vertical-align: middle;\n",
              "    }\n",
              "\n",
              "    .dataframe tbody tr th {\n",
              "        vertical-align: top;\n",
              "    }\n",
              "\n",
              "    .dataframe thead th {\n",
              "        text-align: right;\n",
              "    }\n",
              "</style>\n",
              "<table border=\"1\" class=\"dataframe\">\n",
              "  <thead>\n",
              "    <tr style=\"text-align: right;\">\n",
              "      <th></th>\n",
              "      <th>Age</th>\n",
              "      <th>target</th>\n",
              "    </tr>\n",
              "  </thead>\n",
              "  <tbody>\n",
              "    <tr>\n",
              "      <th>count</th>\n",
              "      <td>401.000000</td>\n",
              "      <td>401.000000</td>\n",
              "    </tr>\n",
              "    <tr>\n",
              "      <th>mean</th>\n",
              "      <td>23.231920</td>\n",
              "      <td>0.600998</td>\n",
              "    </tr>\n",
              "    <tr>\n",
              "      <th>std</th>\n",
              "      <td>3.103801</td>\n",
              "      <td>0.490305</td>\n",
              "    </tr>\n",
              "    <tr>\n",
              "      <th>min</th>\n",
              "      <td>17.000000</td>\n",
              "      <td>0.000000</td>\n",
              "    </tr>\n",
              "    <tr>\n",
              "      <th>25%</th>\n",
              "      <td>21.000000</td>\n",
              "      <td>0.000000</td>\n",
              "    </tr>\n",
              "    <tr>\n",
              "      <th>50%</th>\n",
              "      <td>23.000000</td>\n",
              "      <td>1.000000</td>\n",
              "    </tr>\n",
              "    <tr>\n",
              "      <th>75%</th>\n",
              "      <td>24.000000</td>\n",
              "      <td>1.000000</td>\n",
              "    </tr>\n",
              "    <tr>\n",
              "      <th>max</th>\n",
              "      <td>34.000000</td>\n",
              "      <td>1.000000</td>\n",
              "    </tr>\n",
              "  </tbody>\n",
              "</table>\n",
              "</div>"
            ],
            "text/plain": [
              "              Age      target\n",
              "count  401.000000  401.000000\n",
              "mean    23.231920    0.600998\n",
              "std      3.103801    0.490305\n",
              "min     17.000000    0.000000\n",
              "25%     21.000000    0.000000\n",
              "50%     23.000000    1.000000\n",
              "75%     24.000000    1.000000\n",
              "max     34.000000    1.000000"
            ]
          },
          "metadata": {
            "tags": []
          },
          "execution_count": 106
        }
      ]
    },
    {
      "cell_type": "code",
      "metadata": {
        "id": "kNiWIEh4oND5",
        "colab_type": "code",
        "colab": {
          "base_uri": "https://localhost:8080/",
          "height": 255
        },
        "outputId": "ee842ec2-b3eb-41fb-ac39-c1270cb06277"
      },
      "source": [
        "dataset.info()\n"
      ],
      "execution_count": 107,
      "outputs": [
        {
          "output_type": "stream",
          "text": [
            "<class 'pandas.core.frame.DataFrame'>\n",
            "RangeIndex: 401 entries, 0 to 400\n",
            "Data columns (total 9 columns):\n",
            "Age           401 non-null int64\n",
            "Gender        401 non-null object\n",
            "Time_frame    401 non-null object\n",
            "Platform      401 non-null object\n",
            "Likes         401 non-null object\n",
            "help          401 non-null object\n",
            "comments      401 non-null object\n",
            "likead        401 non-null object\n",
            "target        401 non-null int64\n",
            "dtypes: int64(2), object(7)\n",
            "memory usage: 28.3+ KB\n"
          ],
          "name": "stdout"
        }
      ]
    },
    {
      "cell_type": "code",
      "metadata": {
        "id": "GFADki4qYV2r",
        "colab_type": "code",
        "colab": {}
      },
      "source": [
        "# mapping dataset to numeric value\n",
        "Gender_mapping = {\"Male\": 0, \"Female\": 1}\n",
        "dataset['Gender'] = dataset['Gender'].map(Gender_mapping)\n",
        "\n",
        "Time_frame_mapping = {\"Short\": 0, \"Long\": 1}\n",
        "dataset['Time_frame'] = dataset['Time_frame'].map(Time_frame_mapping)\n",
        "\n",
        "Platform_mapping = {\"Computer\": 0, \"Mobile_Phone\": 1}\n",
        "dataset['Platform'] = dataset['Platform'].map(Platform_mapping)\n",
        "\n",
        "Likes_mapping = {\"No\": 0, \"Yes\": 1,\"Maybe\":2}\n",
        "dataset['Likes'] = dataset['Likes'].map(Likes_mapping)\n",
        "\n",
        "help_mapping = {\"No\": 0, \"Yes\": 1,\"Maybe\":2,\"Sometimes\":3}\n",
        "dataset['help'] = dataset['help'].map(help_mapping)\n",
        "\n",
        "comments_mapping = {\"No\": 0, \"Yes\": 1,\"Maybe\":2}\n",
        "dataset['comments'] = dataset['comments'].map(comments_mapping)\n",
        "\n",
        "likead_mapping = {\"No\": 0, \"Yes\": 1}\n",
        "dataset['likead'] = dataset['likead'].map(likead_mapping)\n",
        "\n"
      ],
      "execution_count": 0,
      "outputs": []
    },
    {
      "cell_type": "code",
      "metadata": {
        "id": "e71f91olqT6-",
        "colab_type": "code",
        "colab": {}
      },
      "source": [
        "def bar_chart(feature):\n",
        "    change_lifestyle = dataset[dataset['target']==1][feature].value_counts()\n",
        "    not_change_lifestyle = dataset[dataset['target']==0][feature].value_counts()\n",
        "    df = pd.DataFrame([change_lifestyle, not_change_lifestyle])\n",
        "    df.index = ['change_lifestyle','not_change_lifestyle']\n",
        "    df.plot(title= feature, kind='bar',stacked=True, figsize=(8,4), rot=0)\n",
        "    \n",
        " "
      ],
      "execution_count": 0,
      "outputs": []
    },
    {
      "cell_type": "code",
      "metadata": {
        "id": "hZgRfF0bs0Ge",
        "colab_type": "code",
        "colab": {
          "base_uri": "https://localhost:8080/",
          "height": 1000
        },
        "outputId": "e223b889-d3c5-4b05-f84e-d4801bacc48e"
      },
      "source": [
        " rcParams['figure.figsize'] = 18, 18\n",
        " for i in dataset.columns:\n",
        "    bar_chart(i)"
      ],
      "execution_count": 110,
      "outputs": [
        {
          "output_type": "display_data",
          "data": {
            "image/png": "[encoded data removed]",
            "text/plain": [
              "<Figure size 576x288 with 1 Axes>"
            ]
          },
          "metadata": {
            "tags": []
          }
        },
        {
          "output_type": "display_data",
          "data": {
            "image/png": "[encoded data removed]",
            "text/plain": [
              "<Figure size 576x288 with 1 Axes>"
            ]
          },
          "metadata": {
            "tags": []
          }
        },
        {
          "output_type": "display_data",
          "data": {
            "image/png": "[encoded data removed]",
            "text/plain": [
              "<Figure size 576x288 with 1 Axes>"
            ]
          },
          "metadata": {
            "tags": []
          }
        },
        {
          "output_type": "display_data",
          "data": {
            "image/png": "[encoded data removed]",
            "text/plain": [
              "<Figure size 576x288 with 1 Axes>"
            ]
          },
          "metadata": {
            "tags": []
          }
        },
        {
          "output_type": "display_data",
          "data": {
            "image/png": "[encoded data removed]",
            "text/plain": [
              "<Figure size 576x288 with 1 Axes>"
            ]
          },
          "metadata": {
            "tags": []
          }
        },
        {
          "output_type": "display_data",
          "data": {
            "image/png": "[encoded data removed]",
            "text/plain": [
              "<Figure size 576x288 with 1 Axes>"
            ]
          },
          "metadata": {
            "tags": []
          }
        },
        {
          "output_type": "display_data",
          "data": {
            "image/png": "[encoded data removed]",
            "text/plain": [
              "<Figure size 576x288 with 1 Axes>"
            ]
          },
          "metadata": {
            "tags": []
          }
        },
        {
          "output_type": "display_data",
          "data": {
            "image/png": "[encoded data removed]",
            "text/plain": [
              "<Figure size 576x288 with 1 Axes>"
            ]
          },
          "metadata": {
            "tags": []
          }
        },
        {
          "output_type": "display_data",
          "data": {
            "image/png": "[encoded data removed]",
            "text/plain": [
              "<Figure size 576x288 with 1 Axes>"
            ]
          },
          "metadata": {
            "tags": []
          }
        }
      ]
    },
    {
      "cell_type": "code",
      "metadata": {
        "id": "Y4zI__sAt7nZ",
        "colab_type": "code",
        "colab": {
          "base_uri": "https://localhost:8080/",
          "height": 187
        },
        "outputId": "5f42b89a-8b24-40eb-a200-b6c431606d85"
      },
      "source": [
        "dataset.isnull().sum()"
      ],
      "execution_count": 111,
      "outputs": [
        {
          "output_type": "execute_result",
          "data": {
            "text/plain": [
              "Age           0\n",
              "Gender        0\n",
              "Time_frame    0\n",
              "Platform      0\n",
              "Likes         0\n",
              "help          0\n",
              "comments      0\n",
              "likead        0\n",
              "target        0\n",
              "dtype: int64"
            ]
          },
          "metadata": {
            "tags": []
          },
          "execution_count": 111
        }
      ]
    },
    {
      "cell_type": "code",
      "metadata": {
        "id": "JnLen_xFxWs4",
        "colab_type": "code",
        "colab": {}
      },
      "source": [
        "feature_selected = ['Age','Gender', 'Time_frame','Platform', 'Likes', 'help', 'comments',\n",
        "                'likead' ,'target']\n",
        "data_selected = dataset[feature_selected]"
      ],
      "execution_count": 0,
      "outputs": []
    },
    {
      "cell_type": "code",
      "metadata": {
        "id": "Af4uvna9u-CM",
        "colab_type": "code",
        "colab": {}
      },
      "source": [
        "predictors = dataset.drop(\"target\",axis=1)\n",
        "target = dataset[\"target\"]\n",
        "\n",
        "X_train,X_test,y_train,y_test = train_test_split(predictors,target,test_size=0.33,random_state=0)"
      ],
      "execution_count": 0,
      "outputs": []
    },
    {
      "cell_type": "code",
      "metadata": {
        "id": "NevpAsP3vDYB",
        "colab_type": "code",
        "colab": {}
      },
      "source": [
        "predictors_selected = data_selected.drop(\"target\",axis=1)\n",
        "target_selected = data_selected[\"target\"]\n",
        "\n",
        "X_train_selected,X_test_selected,y_train_selected,y_test_selected = train_test_split(predictors_selected,target_selected,test_size=0.33,random_state=0)"
      ],
      "execution_count": 0,
      "outputs": []
    },
    {
      "cell_type": "code",
      "metadata": {
        "id": "Id5he0x52_ZA",
        "colab_type": "code",
        "colab": {
          "base_uri": "https://localhost:8080/",
          "height": 85
        },
        "outputId": "8172ca59-7195-4392-ce93-16fb6b574bc6"
      },
      "source": [
        "print('X_train', X_train.shape)\n",
        "print('X_test', X_test.shape)\n",
        "print('y_train', y_train.shape)\n",
        "print('y_test', y_test.shape)"
      ],
      "execution_count": 115,
      "outputs": [
        {
          "output_type": "stream",
          "text": [
            "X_train (268, 8)\n",
            "X_test (133, 8)\n",
            "y_train (268,)\n",
            "y_test (133,)\n"
          ],
          "name": "stdout"
        }
      ]
    },
    {
      "cell_type": "code",
      "metadata": {
        "id": "ne_dWxh84CHK",
        "colab_type": "code",
        "colab": {}
      },
      "source": [
        "# for k-fold cross validation\n",
        "k_fold = KFold(n_splits=8, shuffle=True, random_state=0)"
      ],
      "execution_count": 0,
      "outputs": []
    },
    {
      "cell_type": "markdown",
      "metadata": {
        "id": "kQZGKDo8SEXj",
        "colab_type": "text"
      },
      "source": [
        "Naive Bayes"
      ]
    },
    {
      "cell_type": "code",
      "metadata": {
        "id": "0A3JRV4e4M2m",
        "colab_type": "code",
        "colab": {
          "base_uri": "https://localhost:8080/",
          "height": 102
        },
        "outputId": "b58128d3-fec2-48f0-c9d7-075b1b5e7b9a"
      },
      "source": [
        "# for dataset\n",
        "nb = GaussianNB()\n",
        "\n",
        "# score_nb = cross_val_score(nb, predictors, target, cv=k_fold, n_jobs=1, scoring='accuracy')\n",
        "# score_nb = round(np.mean(score_nb)*100, 2)\n",
        "\n",
        "nb.fit(X_train,y_train)\n",
        "y_pred_nb = nb.predict(X_test)\n",
        "\n",
        "accuracy_nb = round(accuracy_score(y_test, y_pred_nb)*100, 2)\n",
        "precision_nb = round(precision_score(y_test, y_pred_nb)*100, 2)\n",
        "recall_nb = round(recall_score(y_test, y_pred_nb)*100, 2)\n",
        "f1_score_nb = round(f1_score(y_test, y_pred_nb)*100, 2)\n",
        "roc_auc_nb = round(roc_auc_score(y_test, y_pred_nb)*100, 2)\n",
        "\n",
        "print(\"Accuracy score of Naive Bayes: \"+str(accuracy_nb)+\" %\")\n",
        "print(\"Precision score of Naive Bayes: \"+str(precision_nb)+\" %\")\n",
        "print(\"Recall score of Naive Bayes: \"+str(recall_nb)+\" %\")\n",
        "print(\"F1 score of Naive Bayes: \"+str(f1_score_nb)+\" %\")\n",
        "print(\"ROC AUC score of Naive Bayes: \"+str(f1_score_nb)+\" %\")"
      ],
      "execution_count": 117,
      "outputs": [
        {
          "output_type": "stream",
          "text": [
            "Accuracy score of Naive Bayes: 56.39 %\n",
            "Precision score of Naive Bayes: 65.08 %\n",
            "Recall score of Naive Bayes: 53.25 %\n",
            "F1 score of Naive Bayes: 58.57 %\n",
            "ROC AUC score of Naive Bayes: 58.57 %\n"
          ],
          "name": "stdout"
        }
      ]
    },
    {
      "cell_type": "code",
      "metadata": {
        "id": "m92V6GI09WNb",
        "colab_type": "code",
        "colab": {
          "base_uri": "https://localhost:8080/",
          "height": 1000
        },
        "outputId": "0c3c3d02-aec8-4034-e983-b7e9a33384b1"
      },
      "source": [
        "\n",
        "matrix_nb = confusion_matrix(y_test, y_pred_nb)\n",
        "sns.heatmap(matrix_nb, annot = True, fmt = \"d\")"
      ],
      "execution_count": 118,
      "outputs": [
        {
          "output_type": "execute_result",
          "data": {
            "text/plain": [
              "<matplotlib.axes._subplots.AxesSubplot at 0x7f630f8425f8>"
            ]
          },
          "metadata": {
            "tags": []
          },
          "execution_count": 118
        },
        {
          "output_type": "display_data",
          "data": {
            "image/png": "[encoded data removed]",
            "text/plain": [
              "<Figure size 1296x1296 with 2 Axes>"
            ]
          },
          "metadata": {
            "tags": []
          }
        }
      ]
    },
    {
      "cell_type": "code",
      "metadata": {
        "id": "BO7AsIynRIcu",
        "colab_type": "code",
        "colab": {
          "base_uri": "https://localhost:8080/",
          "height": 102
        },
        "outputId": "0f9e7e62-0d19-48f3-bdc3-cdccf4e58c8f"
      },
      "source": [
        "# for data_selected\n",
        "nb = GaussianNB()\n",
        "\n",
        "# score_nb_selected = cross_val_score(nb, predictors_selected, target_selected, cv=k_fold, n_jobs=1, scoring='accuracy')\n",
        "# core_nb_selected = round(np.mean(score_nb_selected)*100, 2)\n",
        "\n",
        "nb.fit(X_train_selected, y_train_selected)\n",
        "y_pred_nb_selected = nb.predict(X_test_selected)\n",
        "\n",
        "accuracy_nb_selected = round(accuracy_score(y_test_selected, y_pred_nb_selected)*100, 2)\n",
        "precision_nb_selected = round(precision_score(y_test_selected, y_pred_nb_selected)*100, 2)\n",
        "recall_nb_selected = round(recall_score(y_test_selected, y_pred_nb_selected)*100, 2)\n",
        "f1_score_nb_selected = round(f1_score(y_test_selected, y_pred_nb_selected)*100, 2)\n",
        "roc_auc_nb_selected = round(roc_auc_score(y_test_selected, y_pred_nb_selected)*100, 2)\n",
        "\n",
        "print(\"Accuracy score of Naive Bayes: \"+str(accuracy_nb_selected)+\" %\")\n",
        "print(\"Precision score of Naive Bayes: \"+str(precision_nb_selected)+\" %\")\n",
        "print(\"Recall score of Naive Bayes: \"+str(recall_nb_selected)+\" %\")\n",
        "print(\"F1 score of Naive Bayes: \"+str(f1_score_nb_selected)+\" %\")\n",
        "print(\"ROC AUC score of Naive Bayes: \"+str(roc_auc_nb_selected)+\" %\")"
      ],
      "execution_count": 119,
      "outputs": [
        {
          "output_type": "stream",
          "text": [
            "Accuracy score of Naive Bayes: 56.39 %\n",
            "Precision score of Naive Bayes: 65.08 %\n",
            "Recall score of Naive Bayes: 53.25 %\n",
            "F1 score of Naive Bayes: 58.57 %\n",
            "ROC AUC score of Naive Bayes: 56.98 %\n"
          ],
          "name": "stdout"
        }
      ]
    },
    {
      "cell_type": "code",
      "metadata": {
        "id": "PU-aYcawOIIG",
        "colab_type": "code",
        "colab": {
          "base_uri": "https://localhost:8080/",
          "height": 170
        },
        "outputId": "16dce896-a9de-4075-a230-d89f68826c3e"
      },
      "source": [
        "print(classification_report(y_test, y_pred_nb))"
      ],
      "execution_count": 120,
      "outputs": [
        {
          "output_type": "stream",
          "text": [
            "              precision    recall  f1-score   support\n",
            "\n",
            "           0       0.49      0.61      0.54        56\n",
            "           1       0.65      0.53      0.59        77\n",
            "\n",
            "    accuracy                           0.56       133\n",
            "   macro avg       0.57      0.57      0.56       133\n",
            "weighted avg       0.58      0.56      0.57       133\n",
            "\n"
          ],
          "name": "stdout"
        }
      ]
    },
    {
      "cell_type": "code",
      "metadata": {
        "id": "0Q3MV3vmRULy",
        "colab_type": "code",
        "colab": {
          "base_uri": "https://localhost:8080/",
          "height": 1000
        },
        "outputId": "0f85cc67-b452-4697-d8fd-8620d35c7093"
      },
      "source": [
        "matrix_nb_selected = confusion_matrix(y_test_selected, y_pred_nb_selected)\n",
        "sns.heatmap(matrix_nb_selected, annot = True, fmt = \"d\")"
      ],
      "execution_count": 121,
      "outputs": [
        {
          "output_type": "execute_result",
          "data": {
            "text/plain": [
              "<matplotlib.axes._subplots.AxesSubplot at 0x7f630f714be0>"
            ]
          },
          "metadata": {
            "tags": []
          },
          "execution_count": 121
        },
        {
          "output_type": "display_data",
          "data": {
            "image/png": "[encoded data removed]",
            "text/plain": [
              "<Figure size 1296x1296 with 2 Axes>"
            ]
          },
          "metadata": {
            "tags": []
          }
        }
      ]
    },
    {
      "cell_type": "markdown",
      "metadata": {
        "id": "vEMsWKhIR67R",
        "colab_type": "text"
      },
      "source": [
        "Decision Tree"
      ]
    },
    {
      "cell_type": "code",
      "metadata": {
        "id": "RgdPxCOjRhmC",
        "colab_type": "code",
        "colab": {
          "base_uri": "https://localhost:8080/",
          "height": 102
        },
        "outputId": "a45700a7-5879-4c14-dbe3-c9846e1a0ce1"
      },
      "source": [
        "#for dataset\n",
        "max_accuracy = 0\n",
        "for x in range(200):\n",
        "    dt = DecisionTreeClassifier(random_state=x)\n",
        "    dt.fit(X_train,y_train)\n",
        "    y_pred_dt = dt.predict(X_test)\n",
        "    current_accuracy = round(accuracy_score(y_pred_dt, y_test)*100,2)\n",
        "    if(current_accuracy > max_accuracy):\n",
        "        max_accuracy = current_accuracy\n",
        "        best_x = x\n",
        "        \n",
        "#print(max_accuracy)\n",
        "#print(best_x)\n",
        "dt = DecisionTreeClassifier(random_state=best_x)\n",
        "dt.fit(X_train,y_train)\n",
        "y_pred_dt = dt.predict(X_test)\n",
        "\n",
        "# dt = DecisionTreeClassifier()\n",
        "# score_dt = cross_val_score(dt, predictors, target, cv=k_fold, n_jobs=1, scoring = 'accuracy')\n",
        "# score_dt = round(np.mean(score_dt)*100, 2)\n",
        "\n",
        "accuracy_dt = round(accuracy_score(y_test, y_pred_dt)*100, 2)\n",
        "precision_dt = round(precision_score(y_test, y_pred_dt)*100, 2)\n",
        "recall_dt = round(recall_score(y_test, y_pred_dt)*100, 2)\n",
        "f1_score_dt = round(f1_score(y_test, y_pred_dt)*100, 2)\n",
        "roc_auc_dt = round(roc_auc_score(y_test_selected, y_pred_dt)*100, 2)\n",
        "\n",
        "print(\"Accuracy score of Decision Tree: \"+str(accuracy_dt)+\" %\")\n",
        "print(\"Precision score of Decision Tree: \"+str(precision_dt)+\" %\")\n",
        "print(\"Recall score of Decision Tree: \"+str(recall_dt)+\" %\")\n",
        "print(\"F1 score of Decision Tree: \"+str(f1_score_dt)+\" %\")\n",
        "print(\"ROC AUC score of Decision Tree: \"+str(roc_auc_dt)+\" %\")"
      ],
      "execution_count": 122,
      "outputs": [
        {
          "output_type": "stream",
          "text": [
            "Accuracy score of Decision Tree: 57.89 %\n",
            "Precision score of Decision Tree: 62.96 %\n",
            "Recall score of Decision Tree: 66.23 %\n",
            "F1 score of Decision Tree: 64.56 %\n",
            "ROC AUC score of Decision Tree: 56.33 %\n"
          ],
          "name": "stdout"
        }
      ]
    },
    {
      "cell_type": "code",
      "metadata": {
        "id": "L4NgTRklSNBk",
        "colab_type": "code",
        "colab": {
          "base_uri": "https://localhost:8080/",
          "height": 1000
        },
        "outputId": "77f549e4-b949-4698-9322-23f0e95198f3"
      },
      "source": [
        "matrix_dt = confusion_matrix(y_test, y_pred_dt)\n",
        "sns.heatmap(matrix_dt, annot = True, fmt = \"d\")"
      ],
      "execution_count": 123,
      "outputs": [
        {
          "output_type": "execute_result",
          "data": {
            "text/plain": [
              "<matplotlib.axes._subplots.AxesSubplot at 0x7f630f9bbeb8>"
            ]
          },
          "metadata": {
            "tags": []
          },
          "execution_count": 123
        },
        {
          "output_type": "display_data",
          "data": {
            "image/png": "[encoded data removed]",
            "text/plain": [
              "<Figure size 1296x1296 with 2 Axes>"
            ]
          },
          "metadata": {
            "tags": []
          }
        }
      ]
    },
    {
      "cell_type": "code",
      "metadata": {
        "id": "npCZbFpUSVjQ",
        "colab_type": "code",
        "colab": {
          "base_uri": "https://localhost:8080/",
          "height": 170
        },
        "outputId": "1b47658e-390d-4dbd-9d2d-52681be704b0"
      },
      "source": [
        "print(classification_report(y_test, y_pred_dt))"
      ],
      "execution_count": 124,
      "outputs": [
        {
          "output_type": "stream",
          "text": [
            "              precision    recall  f1-score   support\n",
            "\n",
            "           0       0.50      0.46      0.48        56\n",
            "           1       0.63      0.66      0.65        77\n",
            "\n",
            "    accuracy                           0.58       133\n",
            "   macro avg       0.56      0.56      0.56       133\n",
            "weighted avg       0.58      0.58      0.58       133\n",
            "\n"
          ],
          "name": "stdout"
        }
      ]
    },
    {
      "cell_type": "code",
      "metadata": {
        "id": "kai5zbxxTfKa",
        "colab_type": "code",
        "colab": {
          "base_uri": "https://localhost:8080/",
          "height": 102
        },
        "outputId": "7248a82f-f404-462b-d338-0904a608b099"
      },
      "source": [
        "# data_selected\n",
        "max_accuracy = 0\n",
        "for x in range(200):\n",
        "    dt = DecisionTreeClassifier(random_state=x)\n",
        "    dt.fit(X_train_selected, y_train_selected)\n",
        "    y_pred_dt_selected = dt.predict(X_test_selected)\n",
        "    current_accuracy = round(accuracy_score(y_pred_dt_selected, y_test_selected)*100,2)\n",
        "    if(current_accuracy > max_accuracy):\n",
        "        max_accuracy = current_accuracy\n",
        "        best_x = x\n",
        "        \n",
        "#print(max_accuracy)\n",
        "#print(best_x)\n",
        "\n",
        "dt = DecisionTreeClassifier(random_state=best_x)\n",
        "dt.fit(X_train_selected,y_train_selected)\n",
        "y_pred_dt_selected = dt.predict(X_test_selected)\n",
        "\n",
        "# dt = DecisionTreeClassifier()\n",
        "# score_dt_selected = cross_val_score(dt, predictors_selected, target_selected, cv=k_fold, n_jobs=1, scoring = 'accuracy')\n",
        "# score_dt_selected = round(np.mean(score_dt_selected)*100, 2)\n",
        "\n",
        "accuracy_dt_selected = round(accuracy_score(y_test_selected, y_pred_dt_selected)*100, 2)\n",
        "precision_dt_selected = round(precision_score(y_test_selected, y_pred_dt_selected)*100, 2)\n",
        "recall_dt_selected = round(recall_score(y_test_selected, y_pred_dt_selected)*100, 2)\n",
        "f1_score_dt_selected = round(f1_score(y_test_selected, y_pred_dt_selected)*100, 2)\n",
        "roc_auc_dt_selected = round(roc_auc_score(y_test_selected, y_pred_dt_selected)*100, 2)\n",
        "\n",
        "print(\"Accuracy score of Decision Tree: \"+str(accuracy_dt_selected)+\" %\")\n",
        "print(\"Precision score of Decision Tree: \"+str(precision_dt_selected)+\" %\")\n",
        "print(\"Recall score of Decision Tree: \"+str(recall_dt_selected)+\" %\")\n",
        "print(\"F1 score of Decision Tree: \"+str(f1_score_dt_selected)+\" %\")\n",
        "print(\"ROC AUC score of Decision Tree: \"+str(roc_auc_dt_selected)+\" %\")"
      ],
      "execution_count": 125,
      "outputs": [
        {
          "output_type": "stream",
          "text": [
            "Accuracy score of Decision Tree: 57.89 %\n",
            "Precision score of Decision Tree: 62.96 %\n",
            "Recall score of Decision Tree: 66.23 %\n",
            "F1 score of Decision Tree: 64.56 %\n",
            "ROC AUC score of Decision Tree: 56.33 %\n"
          ],
          "name": "stdout"
        }
      ]
    },
    {
      "cell_type": "code",
      "metadata": {
        "id": "FyziDatjTxBn",
        "colab_type": "code",
        "colab": {
          "base_uri": "https://localhost:8080/",
          "height": 1000
        },
        "outputId": "d458bd1a-2808-4fcb-b736-5a2342972074"
      },
      "source": [
        "matrix_dt_selected = confusion_matrix(y_test_selected, y_pred_dt_selected)\n",
        "sns.heatmap(matrix_dt_selected, annot = True, fmt = \"d\")"
      ],
      "execution_count": 126,
      "outputs": [
        {
          "output_type": "execute_result",
          "data": {
            "text/plain": [
              "<matplotlib.axes._subplots.AxesSubplot at 0x7f630f76ffd0>"
            ]
          },
          "metadata": {
            "tags": []
          },
          "execution_count": 126
        },
        {
          "output_type": "display_data",
          "data": {
            "image/png": "[encoded data removed]",
            "text/plain": [
              "<Figure size 1296x1296 with 2 Axes>"
            ]
          },
          "metadata": {
            "tags": []
          }
        }
      ]
    },
    {
      "cell_type": "code",
      "metadata": {
        "id": "rmkZJqTtT1E7",
        "colab_type": "code",
        "colab": {
          "base_uri": "https://localhost:8080/",
          "height": 170
        },
        "outputId": "1220641b-5d0c-40ff-ba70-9722d41ad738"
      },
      "source": [
        "print(classification_report(y_test_selected, y_pred_dt_selected))"
      ],
      "execution_count": 127,
      "outputs": [
        {
          "output_type": "stream",
          "text": [
            "              precision    recall  f1-score   support\n",
            "\n",
            "           0       0.50      0.46      0.48        56\n",
            "           1       0.63      0.66      0.65        77\n",
            "\n",
            "    accuracy                           0.58       133\n",
            "   macro avg       0.56      0.56      0.56       133\n",
            "weighted avg       0.58      0.58      0.58       133\n",
            "\n"
          ],
          "name": "stdout"
        }
      ]
    },
    {
      "cell_type": "markdown",
      "metadata": {
        "id": "ZiQrZOPwT80g",
        "colab_type": "text"
      },
      "source": [
        "Random Forest\n"
      ]
    },
    {
      "cell_type": "code",
      "metadata": {
        "id": "6Zpe-VDbU2PN",
        "colab_type": "code",
        "colab": {
          "base_uri": "https://localhost:8080/",
          "height": 102
        },
        "outputId": "02907222-978e-4293-ce7c-c99acfc6535f"
      },
      "source": [
        "# for dataset\n",
        "max_accuracy = 0\n",
        "for x in range(2000):\n",
        "    rf = RandomForestClassifier(random_state = x)\n",
        "    rf.fit(X_train,y_train)\n",
        "    y_pred_rf = rf.predict(X_test)\n",
        "    current_accuracy = round(accuracy_score(y_pred_rf, y_test)*100,2)\n",
        "    if(current_accuracy>max_accuracy):\n",
        "        max_accuracy = current_accuracy\n",
        "        best_x = x\n",
        "        \n",
        "#print(max_accuracy)\n",
        "#print(best_x)\n",
        "\n",
        "rf = RandomForestClassifier(random_state=best_x)\n",
        "rf.fit(X_train,y_train)\n",
        "y_pred_rf = rf.predict(X_test)\n",
        "\n",
        "# rf = RandomForestClassifier()\n",
        "# score_rf = cross_val_score(rf, predictors, target, cv=k_fold, n_jobs=1, scoring = 'accuracy')\n",
        "# score_rf = round(np.mean(score_rf)*100, 2)\n",
        "\n",
        "accuracy_rf = round(accuracy_score(y_test, y_pred_rf)*100, 2)\n",
        "precision_rf = round(precision_score(y_test, y_pred_rf)*100, 2)\n",
        "recall_rf = round(recall_score(y_test, y_pred_rf)*100, 2)\n",
        "f1_score_rf = round(f1_score(y_test, y_pred_rf)*100, 2)\n",
        "roc_auc_rf = round(roc_auc_score(y_test_selected, y_pred_rf)*100, 2)\n",
        "\n",
        "print(\"Accuracy score of Random Forest: \"+str(accuracy_rf)+\" %\")\n",
        "print(\"Precision score of Random Forest: \"+str(precision_rf)+\" %\")\n",
        "print(\"Recall score of Random Forest: \"+str(recall_rf)+\" %\")\n",
        "print(\"F1 score of Random Forest: \"+str(f1_score_rf)+\" %\")\n",
        "print(\"ROC AUC score of Random Forest: \"+str(roc_auc_rf)+\" %\")"
      ],
      "execution_count": 128,
      "outputs": [
        {
          "output_type": "stream",
          "text": [
            "Accuracy score of Random Forest: 69.17 %\n",
            "Precision score of Random Forest: 70.93 %\n",
            "Recall score of Random Forest: 79.22 %\n",
            "F1 score of Random Forest: 74.85 %\n",
            "ROC AUC score of Random Forest: 67.29 %\n"
          ],
          "name": "stdout"
        }
      ]
    },
    {
      "cell_type": "code",
      "metadata": {
        "id": "40AOqqLSXywC",
        "colab_type": "code",
        "colab": {
          "base_uri": "https://localhost:8080/",
          "height": 1000
        },
        "outputId": "6308d829-fd15-4a6a-bb2f-f9c0e44dc063"
      },
      "source": [
        "matrix_rf = confusion_matrix(y_test, y_pred_rf)\n",
        "sns.heatmap(matrix_rf, annot = True, fmt = \"d\")"
      ],
      "execution_count": 129,
      "outputs": [
        {
          "output_type": "execute_result",
          "data": {
            "text/plain": [
              "<matplotlib.axes._subplots.AxesSubplot at 0x7f630fa1b128>"
            ]
          },
          "metadata": {
            "tags": []
          },
          "execution_count": 129
        },
        {
          "output_type": "display_data",
          "data": {
            "image/png": "[encoded data removed]",
            "text/plain": [
              "<Figure size 1296x1296 with 2 Axes>"
            ]
          },
          "metadata": {
            "tags": []
          }
        }
      ]
    },
    {
      "cell_type": "code",
      "metadata": {
        "id": "YuBOJ4PyX16n",
        "colab_type": "code",
        "colab": {
          "base_uri": "https://localhost:8080/",
          "height": 170
        },
        "outputId": "8a540182-7255-4b89-a942-4912fda28250"
      },
      "source": [
        "print(classification_report(y_test, y_pred_rf))"
      ],
      "execution_count": 130,
      "outputs": [
        {
          "output_type": "stream",
          "text": [
            "              precision    recall  f1-score   support\n",
            "\n",
            "           0       0.66      0.55      0.60        56\n",
            "           1       0.71      0.79      0.75        77\n",
            "\n",
            "    accuracy                           0.69       133\n",
            "   macro avg       0.68      0.67      0.68       133\n",
            "weighted avg       0.69      0.69      0.69       133\n",
            "\n"
          ],
          "name": "stdout"
        }
      ]
    },
    {
      "cell_type": "code",
      "metadata": {
        "id": "8ZBF53NGX76j",
        "colab_type": "code",
        "colab": {
          "base_uri": "https://localhost:8080/",
          "height": 102
        },
        "outputId": "8b92edc3-1901-4ac8-c937-7443c4a4a2fe"
      },
      "source": [
        "# for data_selected\n",
        "max_accuracy = 0\n",
        "for x in range(2000):\n",
        "    rf = RandomForestClassifier(random_state=x)\n",
        "    rf.fit(X_train_selected,y_train_selected)\n",
        "    y_pred_rf_selected = rf.predict(X_test_selected)\n",
        "    current_accuracy = round(accuracy_score(y_pred_rf_selected, y_test_selected)*100,2)\n",
        "    if(current_accuracy>max_accuracy):\n",
        "        max_accuracy = current_accuracy\n",
        "        best_x = x\n",
        "        \n",
        "#print(max_accuracy)\n",
        "#print(best_x)\n",
        "\n",
        "rf = RandomForestClassifier(random_state=best_x)\n",
        "rf.fit(X_train_selected,y_train_selected)\n",
        "y_pred_rf_selected = rf.predict(X_test_selected)\n",
        "\n",
        "# rf = RandomForestClassifier()\n",
        "# score_rf_selected = cross_val_score(rf, predictors_selected, target_selected, cv=k_fold, n_jobs=1, scoring = 'accuracy')\n",
        "# score_rf_selected = round(np.mean(score_rf_selected)*100,2)\n",
        "\n",
        "accuracy_rf_selected = round(accuracy_score(y_test_selected, y_pred_rf_selected)*100, 2)\n",
        "precision_rf_selected = round(precision_score(y_test_selected, y_pred_rf_selected)*100, 2)\n",
        "recall_rf_selected = round(recall_score(y_test_selected, y_pred_rf_selected)*100, 2)\n",
        "f1_score_rf_selected = round(f1_score(y_test_selected, y_pred_rf_selected)*100, 2)\n",
        "roc_auc_rf_selected = round(roc_auc_score(y_test_selected, y_pred_rf_selected)*100, 2)\n",
        "\n",
        "print(\"Accuracy score of Random Forest: \"+str(accuracy_rf_selected)+\" %\")\n",
        "print(\"Precision score of Random Forest: \"+str(precision_rf_selected)+\" %\")\n",
        "print(\"Recall score of Random Forest: \"+str(recall_rf_selected)+\" %\")\n",
        "print(\"F1 score of Random Forest: \"+str(f1_score_rf_selected)+\" %\")\n",
        "print(\"ROC AUC score of Random Forest: \"+str(roc_auc_rf_selected)+\" %\")\n"
      ],
      "execution_count": 131,
      "outputs": [
        {
          "output_type": "stream",
          "text": [
            "Accuracy score of Random Forest: 69.17 %\n",
            "Precision score of Random Forest: 70.93 %\n",
            "Recall score of Random Forest: 79.22 %\n",
            "F1 score of Random Forest: 74.85 %\n",
            "ROC AUC score of Random Forest: 67.29 %\n"
          ],
          "name": "stdout"
        }
      ]
    },
    {
      "cell_type": "code",
      "metadata": {
        "id": "BDnBvZzBaWP1",
        "colab_type": "code",
        "colab": {
          "base_uri": "https://localhost:8080/",
          "height": 1000
        },
        "outputId": "8e340f34-0699-4957-fe64-450b9b61a020"
      },
      "source": [
        "matrix_rf_selected = confusion_matrix(y_test_selected, y_pred_rf_selected)\n",
        "sns.heatmap(matrix_rf_selected, annot = True, fmt = \"d\")"
      ],
      "execution_count": 132,
      "outputs": [
        {
          "output_type": "execute_result",
          "data": {
            "text/plain": [
              "<matplotlib.axes._subplots.AxesSubplot at 0x7f630b864e48>"
            ]
          },
          "metadata": {
            "tags": []
          },
          "execution_count": 132
        },
        {
          "output_type": "display_data",
          "data": {
            "image/png": "[encoded data removed]",
            "text/plain": [
              "<Figure size 1296x1296 with 2 Axes>"
            ]
          },
          "metadata": {
            "tags": []
          }
        }
      ]
    },
    {
      "cell_type": "code",
      "metadata": {
        "id": "G5hjMx49aZD1",
        "colab_type": "code",
        "colab": {
          "base_uri": "https://localhost:8080/",
          "height": 170
        },
        "outputId": "fe086a06-735f-487f-b4f8-64448129c245"
      },
      "source": [
        "print(classification_report(y_test_selected, y_pred_rf_selected))"
      ],
      "execution_count": 133,
      "outputs": [
        {
          "output_type": "stream",
          "text": [
            "              precision    recall  f1-score   support\n",
            "\n",
            "           0       0.66      0.55      0.60        56\n",
            "           1       0.71      0.79      0.75        77\n",
            "\n",
            "    accuracy                           0.69       133\n",
            "   macro avg       0.68      0.67      0.68       133\n",
            "weighted avg       0.69      0.69      0.69       133\n",
            "\n"
          ],
          "name": "stdout"
        }
      ]
    },
    {
      "cell_type": "markdown",
      "metadata": {
        "id": "gLG1UXupblZT",
        "colab_type": "text"
      },
      "source": [
        "Multi-Layer Perceptron"
      ]
    },
    {
      "cell_type": "code",
      "metadata": {
        "id": "Mr04MKt9bj5G",
        "colab_type": "code",
        "colab": {
          "base_uri": "https://localhost:8080/",
          "height": 102
        },
        "outputId": "247790a2-f21a-4856-e978-84e1f5223cb9"
      },
      "source": [
        "# for dataset\n",
        "\n",
        "mlp = MLPClassifier(solver='lbfgs', alpha=1e-5, hidden_layer_sizes=(13,13,13),max_iter=5000)\n",
        "\n",
        "# score_xgb = cross_val_score(xgb, predictors, target, cv = k_fold, n_jobs = 1, scoring = 'accuracy')\n",
        "# score_xgb = round(np.mean(score_xgb)*100, 2)\n",
        "\n",
        "mlp.fit(X_train,y_train)\n",
        "y_pred_mlp = mlp.predict(X_test)\n",
        "\n",
        "accuracy_mlp = round(accuracy_score(y_test, y_pred_mlp)*100, 2)\n",
        "precision_mlp = round(precision_score(y_test, y_pred_mlp)*100, 2)\n",
        "recall_mlp = round(recall_score(y_test, y_pred_mlp)*100, 2)\n",
        "f1_score_mlp = round(f1_score(y_test, y_pred_mlp)*100, 2)\n",
        "roc_auc_mlp = round(roc_auc_score(y_test_selected, y_pred_mlp)*100, 2)\n",
        "\n",
        "print(\"Accuracy score of Multi-Layer Perceptron: \"+str(accuracy_mlp)+\" %\")\n",
        "print(\"Precision score of Multi-Layer Perceptron: \"+str(precision_mlp)+\" %\")\n",
        "print(\"Recall score of Multi-Layer Perceptron: \"+str(recall_mlp)+\" %\")\n",
        "print(\"F1 score of Multi-Layer Perceptron: \"+str(f1_score_mlp)+\" %\")\n",
        "print(\"ROC AUC score of Multi-Layer Perceptron: \"+str(roc_auc_mlp)+\" %\")"
      ],
      "execution_count": 134,
      "outputs": [
        {
          "output_type": "stream",
          "text": [
            "Accuracy score of Multi-Layer Perceptron: 58.65 %\n",
            "Precision score of Multi-Layer Perceptron: 61.22 %\n",
            "Recall score of Multi-Layer Perceptron: 77.92 %\n",
            "F1 score of Multi-Layer Perceptron: 68.57 %\n",
            "ROC AUC score of Multi-Layer Perceptron: 55.03 %\n"
          ],
          "name": "stdout"
        }
      ]
    },
    {
      "cell_type": "code",
      "metadata": {
        "id": "WXNA8H4Gbxau",
        "colab_type": "code",
        "colab": {
          "base_uri": "https://localhost:8080/",
          "height": 1000
        },
        "outputId": "e125fb0b-f512-4e58-b2ba-4a99a68b99d3"
      },
      "source": [
        "matrix_mlp = confusion_matrix(y_test, y_pred_mlp)\n",
        "sns.heatmap(matrix_mlp, annot = True, fmt = \"d\")"
      ],
      "execution_count": 135,
      "outputs": [
        {
          "output_type": "execute_result",
          "data": {
            "text/plain": [
              "<matplotlib.axes._subplots.AxesSubplot at 0x7f630b792390>"
            ]
          },
          "metadata": {
            "tags": []
          },
          "execution_count": 135
        },
        {
          "output_type": "display_data",
          "data": {
            "image/png": "[encoded data removed]",
            "text/plain": [
              "<Figure size 1296x1296 with 2 Axes>"
            ]
          },
          "metadata": {
            "tags": []
          }
        }
      ]
    },
    {
      "cell_type": "code",
      "metadata": {
        "id": "_0gt1kKTb2a1",
        "colab_type": "code",
        "colab": {
          "base_uri": "https://localhost:8080/",
          "height": 170
        },
        "outputId": "4c68d273-d9b0-486f-df42-2dc343771139"
      },
      "source": [
        "print(classification_report(y_test, y_pred_mlp))"
      ],
      "execution_count": 136,
      "outputs": [
        {
          "output_type": "stream",
          "text": [
            "              precision    recall  f1-score   support\n",
            "\n",
            "           0       0.51      0.32      0.40        56\n",
            "           1       0.61      0.78      0.69        77\n",
            "\n",
            "    accuracy                           0.59       133\n",
            "   macro avg       0.56      0.55      0.54       133\n",
            "weighted avg       0.57      0.59      0.56       133\n",
            "\n"
          ],
          "name": "stdout"
        }
      ]
    },
    {
      "cell_type": "code",
      "metadata": {
        "id": "gYg0B6gPb_WL",
        "colab_type": "code",
        "colab": {
          "base_uri": "https://localhost:8080/",
          "height": 102
        },
        "outputId": "59d86628-a310-47ad-d0ea-a728b230f2ea"
      },
      "source": [
        "# for data_selected\n",
        "\n",
        "mlp = MLPClassifier(solver='lbfgs', alpha=1e-5, hidden_layer_sizes=(13,13,13),max_iter=5000)\n",
        "\n",
        "# score_xgb = cross_val_score(xgb, predictors, target, cv = k_fold, n_jobs = 1, scoring = 'accuracy')\n",
        "# score_xgb = round(np.mean(score_xgb)*100, 2)\n",
        "\n",
        "mlp.fit(X_train_selected,y_train_selected)\n",
        "y_pred_mlp_selected = mlp.predict(X_test_selected)\n",
        "\n",
        "accuracy_mlp_selected = round(accuracy_score(y_test_selected, y_pred_mlp_selected)*100, 2)\n",
        "precision_mlp_selected = round(precision_score(y_test_selected, y_pred_mlp_selected)*100, 2)\n",
        "recall_mlp_selected = round(recall_score(y_test_selected, y_pred_mlp_selected)*100, 2)\n",
        "f1_score_mlp_selected = round(f1_score(y_test_selected, y_pred_mlp_selected)*100, 2)\n",
        "roc_auc_mlp_selected = round(roc_auc_score(y_test_selected, y_pred_mlp_selected)*100, 2)\n",
        "\n",
        "print(\"Accuracy score of Multi-Layer Perceptron: \"+str(accuracy_mlp_selected)+\" %\")\n",
        "print(\"Precision score of Multi-Layer Perceptron: \"+str(precision_mlp_selected)+\" %\")\n",
        "print(\"Recall score of Multi-Layer Perceptron: \"+str(recall_mlp_selected)+\" %\")\n",
        "print(\"F1 score of Multi-Layer Perceptron: \"+str(f1_score_mlp_selected)+\" %\")\n",
        "print(\"ROC AUC score of Multi-Layer Perceptron: \"+str(roc_auc_mlp_selected)+\" %\")"
      ],
      "execution_count": 137,
      "outputs": [
        {
          "output_type": "stream",
          "text": [
            "Accuracy score of Multi-Layer Perceptron: 62.41 %\n",
            "Precision score of Multi-Layer Perceptron: 65.88 %\n",
            "Recall score of Multi-Layer Perceptron: 72.73 %\n",
            "F1 score of Multi-Layer Perceptron: 69.14 %\n",
            "ROC AUC score of Multi-Layer Perceptron: 60.47 %\n"
          ],
          "name": "stdout"
        }
      ]
    },
    {
      "cell_type": "code",
      "metadata": {
        "id": "gne5ofJYcFym",
        "colab_type": "code",
        "colab": {
          "base_uri": "https://localhost:8080/",
          "height": 1000
        },
        "outputId": "cb43abc9-c0d4-403d-fd4d-f8ac2adb0726"
      },
      "source": [
        "matrix_mlp_selected = confusion_matrix(y_test_selected, y_pred_mlp_selected)\n",
        "sns.heatmap(matrix_mlp_selected, annot = True, fmt = \"d\")"
      ],
      "execution_count": 138,
      "outputs": [
        {
          "output_type": "execute_result",
          "data": {
            "text/plain": [
              "<matplotlib.axes._subplots.AxesSubplot at 0x7f630b6be5f8>"
            ]
          },
          "metadata": {
            "tags": []
          },
          "execution_count": 138
        },
        {
          "output_type": "display_data",
          "data": {
            "image/png": "[encoded data removed]",
            "text/plain": [
              "<Figure size 1296x1296 with 2 Axes>"
            ]
          },
          "metadata": {
            "tags": []
          }
        }
      ]
    },
    {
      "cell_type": "code",
      "metadata": {
        "id": "gShMyH8KcNL8",
        "colab_type": "code",
        "colab": {
          "base_uri": "https://localhost:8080/",
          "height": 170
        },
        "outputId": "8a19b3b3-ba9e-474d-bfec-273fb51be1e4"
      },
      "source": [
        "print(classification_report(y_test_selected, y_pred_mlp_selected))"
      ],
      "execution_count": 139,
      "outputs": [
        {
          "output_type": "stream",
          "text": [
            "              precision    recall  f1-score   support\n",
            "\n",
            "           0       0.56      0.48      0.52        56\n",
            "           1       0.66      0.73      0.69        77\n",
            "\n",
            "    accuracy                           0.62       133\n",
            "   macro avg       0.61      0.60      0.61       133\n",
            "weighted avg       0.62      0.62      0.62       133\n",
            "\n"
          ],
          "name": "stdout"
        }
      ]
    },
    {
      "cell_type": "markdown",
      "metadata": {
        "id": "0TASMWOnd3b6",
        "colab_type": "text"
      },
      "source": [
        ""
      ]
    },
    {
      "cell_type": "code",
      "metadata": {
        "id": "7usXw7a6d02j",
        "colab_type": "code",
        "colab": {}
      },
      "source": [
        ""
      ],
      "execution_count": 0,
      "outputs": []
    }
  ]
}